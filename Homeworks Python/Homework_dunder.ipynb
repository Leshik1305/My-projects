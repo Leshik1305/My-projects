{
  "cells": [
    {
      "cell_type": "markdown",
      "metadata": {
        "id": "2VUa9fWvy5zU"
      },
      "source": [
        "# Домашнее занание по теме dunder методы\n",
        "\n",
        "Необходимо реализовывать модуль distance.py. Все задания нужно выполнять в первом блоке кода. Каждое последующее задание зависит от реализации предыдущего.\n",
        "\n",
        "В модуле distance.py определенен класс `Millimeter` он является базовым классом дочерних классов `Centimeter`, `Meter`, `Inch`. Классы имеют атрибуты `label` и `ratio`, последний определяет отношение длины к базововому значению длины (базовые еденицы измерения это миллиметр). У класса `Millimeter` атрибут `ratio` равен **1** значит отношение выглядит как 1 к 1.\n",
        "\n",
        "Также в базовом классе реализован метод `as_millimeters` который возвращает значение в базовых единицах измерения.\n",
        "\n",
        "Чтобы приступить к выполнению задания, сделайте копию файла к свой Google Drive, сделать это можно строку меню выбрав пункт Файл / Сохранить копию на Диске."
      ]
    },
    {
      "cell_type": "code",
      "execution_count": 18,
      "metadata": {
        "id": "rsfo1mCZy3nA",
        "colab": {
          "base_uri": "https://localhost:8080/"
        },
        "outputId": "930aa9c7-d0af-4c72-9948-68432fb58900"
      },
      "outputs": [
        {
          "output_type": "stream",
          "name": "stdout",
          "text": [
            "Overwriting distance.py\n"
          ]
        }
      ],
      "source": [
        "#@title Код модуля distance.py\n",
        "\n",
        "%%file distance.py\n",
        "\n",
        "from functools import total_ordering\n",
        "from typing import Any\n",
        "\n",
        "@total_ordering\n",
        "class Millimeter:\n",
        "    label = 'мм'\n",
        "    ratio = 1\n",
        "    def __init__(self, value):\n",
        "      if type(value) is int:\n",
        "        self._value = float(value)\n",
        "      elif type(value) is float:\n",
        "        self._value = value\n",
        "      else:\n",
        "        self._value = float(value.as_millimeters()/self.ratio)\n",
        "\n",
        "    def __repr__(self):\n",
        "      return f'{self.__class__.__name__}(value={self._value})'\n",
        "\n",
        "    def as_millimeters(self) -> float:\n",
        "      return round(self._value * self.ratio, 5)\n",
        "\n",
        "    def __add__(self, other):\n",
        "      return type(self)(self.as_millimeters()/self.ratio + other.as_millimeters()/self.ratio)\n",
        "\n",
        "\n",
        "    def __sub__(self, other):\n",
        "      return type(self)((self.as_millimeters() - other.as_millimeters())/self.ratio)\n",
        "\n",
        "    def __mul__(self, other):\n",
        "      return type(self)(((self.as_millimeters())/self.ratio * (other.as_millimeters())/self.ratio))\n",
        "\n",
        "    def __truediv__(self, other):\n",
        "      return type(self)((self.as_millimeters() / self.ratio) / (other.as_millimeters() / self.ratio))\n",
        "\n",
        "    def __hash__(self):\n",
        "      return hash(self.as_millimeters())\n",
        "\n",
        "    def __le__(self, other):\n",
        "      return self.as_millimeters() <= other.as_millimeters()\n",
        "\n",
        "    def __eq__(self, other):\n",
        "      return hash(self.as_millimeters()) == hash(other.as_millimeters())\n",
        "\n",
        "    def __int__(self):\n",
        "      return int(self.as_millimeters())\n",
        "\n",
        "    def __float__(self):\n",
        "      return float(self.as_millimeters())\n",
        "\n",
        "class Centimeter(Millimeter):\n",
        "    label = 'см'\n",
        "    ratio = 10.0\n",
        "\n",
        "\n",
        "class Meter(Millimeter):\n",
        "    label = 'метр'\n",
        "    ratio = 1000.0\n",
        "\n",
        "class Inch(Millimeter):\n",
        "    label = 'дюйм'\n",
        "    ratio = 25.4\n"
      ]
    },
    {
      "cell_type": "markdown",
      "metadata": {
        "id": "Gz3Vt9YG1tuW"
      },
      "source": [
        "## Задание 1\n",
        "\n",
        "### Инициализация\n",
        "\n",
        "Установите значения атрибута `ratio` в определении классов `Centimeter`, `Meter` и `Inch`. Например, для класса `Inch` значение атрибута `ratio` будет равно **25.4**.\n",
        "\n",
        "Дополните опредиление dunder метод `__init__`. Метод принимает один аргумент `value` любого типа (`int`, `float`, `Millimeter`, `Centimeter` и т.д.). Если значение агрумента `value` соответствует типам `int` тогда необходимо преобразовать значение к типу `float` и присвоить результат атрибуту `self._value`. Во всех остальных случаях нужно конвертировать значение. Чтобы выполнить конвертацию нужно вызвать метод `value.as_millimeters` и разделить значение на `self.ratio`, преобразовать в тип `float`, а результат присвоить атрибуту `self._value`.\n",
        "\n",
        "### Тестирование\n",
        "\n",
        "1. [Запустите код в ячейке](#scrollTo=rsfo1mCZy3nA&line=1&uniqifier=1)\n",
        "\n",
        "2. [Запустите код в ячейке](#scrollTo=WyeP9yl87HM1&line=1&uniqifier=1)\n",
        "\n",
        "3. [Запустите тестирование](#scrollTo=7Osjaz3E_KF2&line=1&uniqifier=1)\n",
        "\n",
        "Завершение тестов без ошибок свидетельствует о корректном выполнении задания, и вы можете приступать к выполнению следующего!"
      ]
    },
    {
      "cell_type": "code",
      "execution_count": 19,
      "metadata": {
        "id": "WyeP9yl87HM1",
        "colab": {
          "base_uri": "https://localhost:8080/"
        },
        "outputId": "a0ac4719-ceaf-4bc0-d8dd-407aa4ce098b"
      },
      "outputs": [
        {
          "output_type": "stream",
          "name": "stdout",
          "text": [
            "Overwriting tests_point_1.py\n"
          ]
        }
      ],
      "source": [
        "%%file tests_point_1.py\n",
        "\n",
        "from distance import Millimeter, Centimeter, Meter, Inch\n",
        "\n",
        "conversion_err = 'Неверный результат конвертации'\n",
        "\n",
        "def test_value_type():\n",
        "    instance = Millimeter(Meter(13))\n",
        "    assert isinstance(instance._value, float), 'Неверный тип атрибута _value'\n",
        "\n",
        "def test_init_millimeter():\n",
        "    instance = Millimeter(84.33)\n",
        "    assert instance.as_millimeters() == 84.33, 'Неверное значение атрибута _value'\n",
        "\n",
        "def test_convert_millimeters_to_meters():\n",
        "    assert Meter(Millimeter(99.62)).as_millimeters() == 99.62, conversion_err\n",
        "\n",
        "def test_convert_centimeters_to_meters():\n",
        "    assert Meter(Centimeter(61.3)).as_millimeters() == 613, conversion_err\n",
        "\n",
        "def test_convert_inches_to_meters():\n",
        "    assert Meter(Inch(47.04)).as_millimeters() == 1194.816, conversion_err\n",
        "\n",
        "def test_convert_millimeters_to_inches():\n",
        "    assert Inch(Millimeter(26.91)).as_millimeters() == 26.91, conversion_err\n",
        "\n",
        "def test_convert_centimeters_to_inches():\n",
        "    assert Inch(Centimeter(14.27)).as_millimeters() == 142.7, conversion_err\n",
        "\n",
        "def test_convert_meters_to_inches():\n",
        "    assert Inch(Meter(20.58)).as_millimeters() == 20580, conversion_err\n"
      ]
    },
    {
      "cell_type": "code",
      "execution_count": 20,
      "metadata": {
        "id": "7Osjaz3E_KF2",
        "colab": {
          "base_uri": "https://localhost:8080/"
        },
        "outputId": "56e014a5-b4c4-451c-c108-28fa45ed504d"
      },
      "outputs": [
        {
          "output_type": "stream",
          "name": "stdout",
          "text": [
            "\u001b[1m======================================= test session starts ========================================\u001b[0m\n",
            "platform linux -- Python 3.10.12, pytest-7.4.4, pluggy-1.5.0 -- /usr/bin/python3\n",
            "cachedir: .pytest_cache\n",
            "rootdir: /content\n",
            "plugins: typeguard-4.3.0, anyio-3.7.1\n",
            "\u001b[1mcollecting ... \u001b[0m\u001b[1m\rcollected 8 items                                                                                  \u001b[0m\n",
            "\n",
            "tests_point_1.py::test_value_type \u001b[32mPASSED\u001b[0m\n",
            "tests_point_1.py::test_init_millimeter \u001b[32mPASSED\u001b[0m\n",
            "tests_point_1.py::test_convert_millimeters_to_meters \u001b[32mPASSED\u001b[0m\n",
            "tests_point_1.py::test_convert_centimeters_to_meters \u001b[32mPASSED\u001b[0m\n",
            "tests_point_1.py::test_convert_inches_to_meters \u001b[32mPASSED\u001b[0m\n",
            "tests_point_1.py::test_convert_millimeters_to_inches \u001b[32mPASSED\u001b[0m\n",
            "tests_point_1.py::test_convert_centimeters_to_inches \u001b[32mPASSED\u001b[0m\n",
            "tests_point_1.py::test_convert_meters_to_inches \u001b[32mPASSED\u001b[0m\n",
            "\n",
            "\u001b[32m======================================== \u001b[32m\u001b[1m8 passed\u001b[0m\u001b[32m in 0.03s\u001b[0m\u001b[32m =========================================\u001b[0m\n"
          ]
        }
      ],
      "source": [
        "!python -m pytest -vs tests_point_1.py"
      ]
    },
    {
      "cell_type": "markdown",
      "metadata": {
        "id": "5vIf0XiK4gy-"
      },
      "source": [
        "## Задание 2\n",
        "\n",
        "### Представление объекта\n",
        "\n",
        "Реализуйте метод `__repr__`. Помните, что результат вызова функции `repr` по возможности должно возвращать корректное python выражение.\n",
        "\n",
        "### Тестирование\n",
        "\n",
        "1. [Запустите код в ячейке](#scrollTo=rsfo1mCZy3nA&line=1&uniqifier=1)\n",
        "\n",
        "2. [Запустите код в ячейке](#scrollTo=ADceY17n482m&line=1&uniqifier=1)\n",
        "\n",
        "3. [Запустите тестирование](#scrollTo=m5IM5tSM5V1g&line=1&uniqifier=1)\n",
        "\n",
        "Завершение тестов без ошибок свидетельствует о корректном выполнении задания, и вы можете приступать к выполнению следующего!"
      ]
    },
    {
      "cell_type": "code",
      "execution_count": 21,
      "metadata": {
        "id": "ADceY17n482m",
        "colab": {
          "base_uri": "https://localhost:8080/"
        },
        "outputId": "1d968b67-027f-4ce0-b6be-d4b4d287ffb6"
      },
      "outputs": [
        {
          "output_type": "stream",
          "name": "stdout",
          "text": [
            "Overwriting tests_point_2.py\n"
          ]
        }
      ],
      "source": [
        "%%file tests_point_2.py\n",
        "\n",
        "from distance import Millimeter, Centimeter, Meter, Inch\n",
        "\n",
        "def test_repr_method():\n",
        "    instance = Inch(9.2332)\n",
        "    assert repr(instance) in ['Inch(value=9.2332)', 'Inch(9.2332)'], 'Метод __repr__ представляет некорректную или недостаточно информации об объекте'\n"
      ]
    },
    {
      "cell_type": "code",
      "execution_count": 22,
      "metadata": {
        "id": "m5IM5tSM5V1g",
        "colab": {
          "base_uri": "https://localhost:8080/"
        },
        "outputId": "c979359a-86ab-4b32-9d29-69781ac4abe3"
      },
      "outputs": [
        {
          "output_type": "stream",
          "name": "stdout",
          "text": [
            "\u001b[1m======================================= test session starts ========================================\u001b[0m\n",
            "platform linux -- Python 3.10.12, pytest-7.4.4, pluggy-1.5.0 -- /usr/bin/python3\n",
            "cachedir: .pytest_cache\n",
            "rootdir: /content\n",
            "plugins: typeguard-4.3.0, anyio-3.7.1\n",
            "\u001b[1mcollecting ... \u001b[0m\u001b[1m\rcollected 1 item                                                                                   \u001b[0m\n",
            "\n",
            "tests_point_2.py::test_repr_method \u001b[32mPASSED\u001b[0m\n",
            "\n",
            "\u001b[32m======================================== \u001b[32m\u001b[1m1 passed\u001b[0m\u001b[32m in 0.01s\u001b[0m\u001b[32m =========================================\u001b[0m\n"
          ]
        }
      ],
      "source": [
        "!python -m pytest -vs tests_point_2.py"
      ]
    },
    {
      "cell_type": "markdown",
      "metadata": {
        "id": "WzaXSbRRjudX"
      },
      "source": [
        "## Задание 3\n",
        "\n",
        "### Арифметические операции\n",
        "\n",
        "Реализуйте методы `__add__`, `__sub__`, `__mul__` и `__truediv__`. Данные методы должны возвращать новый объект того же типа, что и класс у которого вызывается данный метод, то есть `type(self)`. Методы реализуются с помощью выполнения арифметических оппераций над результатами вызваных у операндов методов `as_millimeters` разделенных на значение атрибута `self.ratio`, то есть значение атрибута левого операнда.\n",
        "\n",
        "### Тестирование\n",
        "\n",
        "1. [Запустите код в ячейке](#scrollTo=rsfo1mCZy3nA&line=1&uniqifier=1)\n",
        "\n",
        "2. [Запустите код в ячейке](#scrollTo=cvnLjXg7lOAO&line=1&uniqifier=1)\n",
        "\n",
        "3. [Запустите тестирование](#scrollTo=Pdel9IHulUWA&line=1&uniqifier=1)\n",
        "\n",
        "Завершение тестов без ошибок свидетельствует о корректном выполнении задания, и вы можете приступать к выполнению следующего!"
      ]
    },
    {
      "cell_type": "code",
      "execution_count": 6,
      "metadata": {
        "id": "cvnLjXg7lOAO",
        "colab": {
          "base_uri": "https://localhost:8080/"
        },
        "outputId": "74888dca-19f2-4c5e-a21f-e7004a7a917d"
      },
      "outputs": [
        {
          "output_type": "stream",
          "name": "stdout",
          "text": [
            "Writing tests_point_3.py\n"
          ]
        }
      ],
      "source": [
        "%%file tests_point_3.py\n",
        "\n",
        "from distance import Millimeter, Centimeter, Meter, Inch\n",
        "\n",
        "def test_add_method():\n",
        "    left = Meter(9.2)\n",
        "    right = Inch(9.2)\n",
        "    assert (left + right).as_millimeters() == 9433.68, 'Метод __add__ реализован не корректно'\n",
        "\n",
        "def test_sub_method():\n",
        "    left = Inch(86.44)\n",
        "    right = Millimeter(94.78)\n",
        "    assert (left - right).as_millimeters() == 2100.796, 'Метод __sub__ реализован не корректно'\n",
        "\n",
        "def test_mul_method():\n",
        "    left = Centimeter(94.95)\n",
        "    right = Millimeter(10.8)\n",
        "    assert (left * right).as_millimeters() == 1025.46, 'Метод __mul__ реализован не корректно'\n",
        "\n",
        "def test_truediv_method():\n",
        "    left = Meter(38.07)\n",
        "    right = Millimeter(44.74)\n",
        "    assert (left / right).as_millimeters() == 850916.4059, 'Метод __mul__ реализован не корректно'\n"
      ]
    },
    {
      "cell_type": "code",
      "execution_count": 7,
      "metadata": {
        "id": "Pdel9IHulUWA",
        "colab": {
          "base_uri": "https://localhost:8080/"
        },
        "outputId": "21800df5-7f51-44bc-fd95-89131f635da6"
      },
      "outputs": [
        {
          "output_type": "stream",
          "name": "stdout",
          "text": [
            "\u001b[1m======================================= test session starts ========================================\u001b[0m\n",
            "platform linux -- Python 3.10.12, pytest-7.4.4, pluggy-1.5.0 -- /usr/bin/python3\n",
            "cachedir: .pytest_cache\n",
            "rootdir: /content\n",
            "plugins: typeguard-4.3.0, anyio-3.7.1\n",
            "\u001b[1mcollecting ... \u001b[0m\u001b[1m\rcollected 4 items                                                                                  \u001b[0m\n",
            "\n",
            "tests_point_3.py::test_add_method \u001b[32mPASSED\u001b[0m\n",
            "tests_point_3.py::test_sub_method \u001b[32mPASSED\u001b[0m\n",
            "tests_point_3.py::test_mul_method \u001b[32mPASSED\u001b[0m\n",
            "tests_point_3.py::test_truediv_method \u001b[32mPASSED\u001b[0m\n",
            "\n",
            "\u001b[32m======================================== \u001b[32m\u001b[1m4 passed\u001b[0m\u001b[32m in 0.01s\u001b[0m\u001b[32m =========================================\u001b[0m\n"
          ]
        }
      ],
      "source": [
        "!python -m pytest -vs tests_point_3.py"
      ]
    },
    {
      "cell_type": "markdown",
      "metadata": {
        "id": "5rS7zWDVgr82"
      },
      "source": [
        "## Задание 4\n",
        "\n",
        "### Сравнение объектов\n",
        "\n",
        "Для сравнения объектов реализуйте методы сравнения `__eq__`, `__le__` и метод `__hash__`, а также оберните класс `Millimeter` в декоратор `total_ordering`. Метод `__hash__` нужно реализовать вызовом метода функции `hash` над результатом вызова метода `self.as_millimeters`. Сравнение объектов методом `__eq__` реализуется с помощью сравнения хеш функций операндов. Реализация метода `__le__` подразумевает сравнение оператором результатов вызова метода `as_millimeters` у сравниваемых объектов.\n",
        "\n",
        "### Тестирование\n",
        "\n",
        "Завершение тестов без ошибок свидетельствует о корректном выполнении задания, и вы можете приступать к выполнению следующего!\n",
        "\n",
        "1. [Запустите код в ячейке](#scrollTo=rsfo1mCZy3nA&line=1&uniqifier=1)\n",
        "\n",
        "2. [Запустите код в ячейке](#scrollTo=u0Kd3iYdhT62&line=1&uniqifier=1)\n",
        "\n",
        "3. [Запустите тестирование](#scrollTo=BAZXZJxBip6J&line=1&uniqifier=1)"
      ]
    },
    {
      "cell_type": "code",
      "execution_count": 8,
      "metadata": {
        "id": "u0Kd3iYdhT62",
        "colab": {
          "base_uri": "https://localhost:8080/"
        },
        "outputId": "c8d40c3d-530a-47f8-e7d6-0e5e143ded43"
      },
      "outputs": [
        {
          "output_type": "stream",
          "name": "stdout",
          "text": [
            "Writing tests_point_4.py\n"
          ]
        }
      ],
      "source": [
        "%%file tests_point_4.py\n",
        "\n",
        "from distance import Millimeter, Centimeter, Meter, Inch\n",
        "\n",
        "def test_hash_method():\n",
        "    instance = Meter(20.64)\n",
        "    assert hash(instance) == hash(20640)\n",
        "\n",
        "def test_eq_method():\n",
        "    left = Millimeter(20.64)\n",
        "    right = Meter(0.02064)\n",
        "    assert left == right, 'Неверный результат сравнения'\n",
        "\n",
        "def test_lt_method():\n",
        "    left = Millimeter(74.0)\n",
        "    right = Meter(0.075)\n",
        "    assert left < right, 'Неверный результат сравнения'\n",
        "\n",
        "def test_ge_method():\n",
        "    left = Meter(57.97)\n",
        "    assert not (left.__ge__(left) is NotImplemented), 'Метод __ge__ не реализован'\n"
      ]
    },
    {
      "cell_type": "code",
      "execution_count": 9,
      "metadata": {
        "id": "BAZXZJxBip6J",
        "colab": {
          "base_uri": "https://localhost:8080/"
        },
        "outputId": "5582f3ab-159f-4801-b73f-dc345838fa34"
      },
      "outputs": [
        {
          "output_type": "stream",
          "name": "stdout",
          "text": [
            "\u001b[1m======================================= test session starts ========================================\u001b[0m\n",
            "platform linux -- Python 3.10.12, pytest-7.4.4, pluggy-1.5.0 -- /usr/bin/python3\n",
            "cachedir: .pytest_cache\n",
            "rootdir: /content\n",
            "plugins: typeguard-4.3.0, anyio-3.7.1\n",
            "\u001b[1mcollecting ... \u001b[0m\u001b[1m\rcollected 4 items                                                                                  \u001b[0m\n",
            "\n",
            "tests_point_4.py::test_hash_method \u001b[32mPASSED\u001b[0m\n",
            "tests_point_4.py::test_eq_method \u001b[32mPASSED\u001b[0m\n",
            "tests_point_4.py::test_lt_method \u001b[32mPASSED\u001b[0m\n",
            "tests_point_4.py::test_ge_method \u001b[32mPASSED\u001b[0m\n",
            "\n",
            "\u001b[32m======================================== \u001b[32m\u001b[1m4 passed\u001b[0m\u001b[32m in 0.03s\u001b[0m\u001b[32m =========================================\u001b[0m\n"
          ]
        }
      ],
      "source": [
        "!python -m pytest -vs tests_point_4.py"
      ]
    },
    {
      "cell_type": "markdown",
      "metadata": {
        "id": "GwSlMsUl7qUG"
      },
      "source": [
        "## Задание 5\n",
        "\n",
        "### Преобразование объектов\n",
        "\n",
        "Реализайте методы `__int__` `__float__`, результат методов должен представлять из себя расстояние в миллиметрах преобразование к соответствующему типу.\n",
        "\n",
        "### Тестирование\n",
        "\n",
        "Завершение тестов без ошибок свидетельствует о корректном выполнении задания, и вы можете приступать к выполнению следующего!\n",
        "\n",
        "1. [Запустите код в ячейке](#scrollTo=rsfo1mCZy3nA&line=1&uniqifier=1)\n",
        "\n",
        "2. [Запустите код в ячейке](#scrollTo=i36lqpaB8VII&line=1&uniqifier=1)\n",
        "\n",
        "3. [Запустите тестирование](#scrollTo=aCQHFFmW8sAj&line=1&uniqifier=1)"
      ]
    },
    {
      "cell_type": "code",
      "execution_count": 10,
      "metadata": {
        "id": "i36lqpaB8VII",
        "colab": {
          "base_uri": "https://localhost:8080/"
        },
        "outputId": "d946b89d-6ccc-48bb-ff7b-0934faf18edf"
      },
      "outputs": [
        {
          "output_type": "stream",
          "name": "stdout",
          "text": [
            "Writing tests_point_5.py\n"
          ]
        }
      ],
      "source": [
        "%%file tests_point_5.py\n",
        "\n",
        "from distance import Millimeter, Centimeter, Meter, Inch\n",
        "\n",
        "import random\n",
        "\n",
        "def test_int_value_method():\n",
        "    value = random.random()\n",
        "    instance = Meter(value)\n",
        "    assert int(instance) == int(value * 1000)\n",
        "\n",
        "def test_int_type_method():\n",
        "    instance = Meter(36.94)\n",
        "    assert type(int(instance)) is int\n",
        "\n",
        "def test_float_value_method():\n",
        "    value = random.random()\n",
        "    instance = Inch(value)\n",
        "    assert float(instance) == float(round(value * 25.4, 5))\n",
        "\n",
        "def test_int_type_method():\n",
        "    instance = Inch(43.63)\n",
        "    assert type(float(instance)) is float\n"
      ]
    },
    {
      "cell_type": "code",
      "execution_count": 11,
      "metadata": {
        "id": "aCQHFFmW8sAj",
        "colab": {
          "base_uri": "https://localhost:8080/"
        },
        "outputId": "db6daa88-72c7-4137-a36c-c14576e47cf0"
      },
      "outputs": [
        {
          "output_type": "stream",
          "name": "stdout",
          "text": [
            "\u001b[1m======================================= test session starts ========================================\u001b[0m\n",
            "platform linux -- Python 3.10.12, pytest-7.4.4, pluggy-1.5.0 -- /usr/bin/python3\n",
            "cachedir: .pytest_cache\n",
            "rootdir: /content\n",
            "plugins: typeguard-4.3.0, anyio-3.7.1\n",
            "\u001b[1mcollecting ... \u001b[0m\u001b[1m\rcollected 3 items                                                                                  \u001b[0m\n",
            "\n",
            "tests_point_5.py::test_int_value_method \u001b[32mPASSED\u001b[0m\n",
            "tests_point_5.py::test_int_type_method \u001b[32mPASSED\u001b[0m\n",
            "tests_point_5.py::test_float_value_method \u001b[32mPASSED\u001b[0m\n",
            "\n",
            "\u001b[32m======================================== \u001b[32m\u001b[1m3 passed\u001b[0m\u001b[32m in 0.02s\u001b[0m\u001b[32m =========================================\u001b[0m\n"
          ]
        }
      ],
      "source": [
        "!python -m pytest -vs tests_point_5.py"
      ]
    },
    {
      "cell_type": "markdown",
      "metadata": {
        "id": "4jHUQuL698ul"
      },
      "source": [
        "## Финальное тестирование\n",
        "Завершение тестов без ошибок свидетельствует о корректном выполнении всех заданий!\n",
        "\n",
        "1. [Запустите код в ячейке](#scrollTo=rsfo1mCZy3nA&line=1&uniqifier=1)\n",
        "\n",
        "2. [Запустите тестирование](#scrollTo=On0t_YEp9vJA&line=1&uniqifier=1)"
      ]
    },
    {
      "cell_type": "code",
      "execution_count": 12,
      "metadata": {
        "id": "On0t_YEp9vJA",
        "colab": {
          "base_uri": "https://localhost:8080/"
        },
        "outputId": "4a4b459b-ca8c-4b7b-da0a-7bd8034515c0"
      },
      "outputs": [
        {
          "output_type": "stream",
          "name": "stdout",
          "text": [
            "\u001b[1m======================================= test session starts ========================================\u001b[0m\n",
            "platform linux -- Python 3.10.12, pytest-7.4.4, pluggy-1.5.0 -- /usr/bin/python3\n",
            "cachedir: .pytest_cache\n",
            "rootdir: /content\n",
            "plugins: typeguard-4.3.0, anyio-3.7.1\n",
            "\u001b[1mcollecting ... \u001b[0m\u001b[1m\rcollected 20 items                                                                                 \u001b[0m\n",
            "\n",
            "tests_point_1.py::test_value_type \u001b[32mPASSED\u001b[0m\n",
            "tests_point_1.py::test_init_millimeter \u001b[32mPASSED\u001b[0m\n",
            "tests_point_1.py::test_convert_millimeters_to_meters \u001b[32mPASSED\u001b[0m\n",
            "tests_point_1.py::test_convert_centimeters_to_meters \u001b[32mPASSED\u001b[0m\n",
            "tests_point_1.py::test_convert_inches_to_meters \u001b[32mPASSED\u001b[0m\n",
            "tests_point_1.py::test_convert_millimeters_to_inches \u001b[32mPASSED\u001b[0m\n",
            "tests_point_1.py::test_convert_centimeters_to_inches \u001b[32mPASSED\u001b[0m\n",
            "tests_point_1.py::test_convert_meters_to_inches \u001b[32mPASSED\u001b[0m\n",
            "tests_point_2.py::test_repr_method \u001b[32mPASSED\u001b[0m\n",
            "tests_point_3.py::test_add_method \u001b[32mPASSED\u001b[0m\n",
            "tests_point_3.py::test_sub_method \u001b[32mPASSED\u001b[0m\n",
            "tests_point_3.py::test_mul_method \u001b[32mPASSED\u001b[0m\n",
            "tests_point_3.py::test_truediv_method \u001b[32mPASSED\u001b[0m\n",
            "tests_point_4.py::test_hash_method \u001b[32mPASSED\u001b[0m\n",
            "tests_point_4.py::test_eq_method \u001b[32mPASSED\u001b[0m\n",
            "tests_point_4.py::test_lt_method \u001b[32mPASSED\u001b[0m\n",
            "tests_point_4.py::test_ge_method \u001b[32mPASSED\u001b[0m\n",
            "tests_point_5.py::test_int_value_method \u001b[32mPASSED\u001b[0m\n",
            "tests_point_5.py::test_int_type_method \u001b[32mPASSED\u001b[0m\n",
            "tests_point_5.py::test_float_value_method \u001b[32mPASSED\u001b[0m\n",
            "\n",
            "\u001b[32m======================================== \u001b[32m\u001b[1m20 passed\u001b[0m\u001b[32m in 0.05s\u001b[0m\u001b[32m ========================================\u001b[0m\n"
          ]
        }
      ],
      "source": [
        "!python -m pytest -vs tests_point_1.py tests_point_2.py tests_point_3.py tests_point_4.py tests_point_5.py"
      ]
    }
  ],
  "metadata": {
    "colab": {
      "provenance": []
    },
    "kernelspec": {
      "display_name": "Python 3",
      "name": "python3"
    },
    "language_info": {
      "codemirror_mode": {
        "name": "ipython",
        "version": 3
      },
      "file_extension": ".py",
      "mimetype": "text/x-python",
      "name": "python",
      "nbconvert_exporter": "python",
      "pygments_lexer": "ipython3",
      "version": "3.8.2"
    }
  },
  "nbformat": 4,
  "nbformat_minor": 0
}