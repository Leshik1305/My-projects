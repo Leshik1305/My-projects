{
 "cells": [
  {
   "cell_type": "code",
   "execution_count": 30,
   "id": "26f0b27b-84bb-4ace-86ec-f7185c182cb5",
   "metadata": {},
   "outputs": [],
   "source": [
    "import threading \n",
    "import time\n",
    "import random\n",
    "\n",
    "class Pharmacy:\n",
    "\n",
    "    \"\"\"Создаем класс, который будет работать с запросами посетителей аптеки, \n",
    "    но создаем условие, что одновременно можно обслуживать не более 3-х посетителей\n",
    "    и лишь после того как они уйдут можно начинать работать со следующими\"\"\"\n",
    "    def __init__(self):\n",
    "        self.visitors_count = threading.Semaphore(value = 3)\n",
    "\n",
    "    \n",
    "    def meet_visitor(self, visitor):\n",
    "        print(f'\\nПришлашаем посетителя под номером {visitor}')\n",
    "        self.visitors_count.acquire()\n",
    "\n",
    "        print(f'\\nОбслуживание поселителя {visitor}')\n",
    "        time.sleep(random.randint(2,5))\n",
    "\n",
    "        print(f'\\nЗавершение работы с посетителем {visitor}')\n",
    "        self.visitors_count.release()\n",
    "\n",
    "    \n",
    "    def visitors(self, count):\n",
    "        for visitor in range(1, count + 1):\n",
    "            visitor_thread = threading.Thread(target = self.meet_visitor,\n",
    "                                    args = [visitor])\n",
    "            visitor_thread.start()"
   ]
  },
  {
   "cell_type": "code",
   "execution_count": 31,
   "id": "6cb07060-d5af-49fa-860b-70580ab8cabc",
   "metadata": {},
   "outputs": [
    {
     "name": "stdout",
     "output_type": "stream",
     "text": [
      "\n",
      "Пришлашаем посетителя под номером 1\n",
      "\n",
      "Обслуживание поселителя 1\n",
      "\n",
      "Пришлашаем посетителя под номером 2\n",
      "\n",
      "Обслуживание поселителя 2\n",
      "\n",
      "Пришлашаем посетителя под номером 3\n",
      "\n",
      "Обслуживание поселителя 3\n",
      "\n",
      "Пришлашаем посетителя под номером 4\n",
      "\n",
      "Пришлашаем посетителя под номером 5\n",
      "\n",
      "Пришлашаем посетителя под номером 6\n",
      "\n",
      "Пришлашаем посетителя под номером 7\n",
      "\n",
      "Пришлашаем посетителя под номером 8\n",
      "\n",
      "Пришлашаем посетителя под номером 9\n",
      "\n",
      "Завершение работы с посетителем 1\n",
      "\n",
      "Обслуживание поселителя 4\n",
      "\n",
      "Завершение работы с посетителем 3\n",
      "\n",
      "Обслуживание поселителя 5\n",
      "\n",
      "Завершение работы с посетителем 2\n",
      "Завершение работы с посетителем 4\n",
      "\n",
      "Обслуживание поселителя 6\n",
      "\n",
      "\n",
      "Обслуживание поселителя 7\n",
      "\n",
      "Завершение работы с посетителем 5\n",
      "\n",
      "Обслуживание поселителя 8\n",
      "\n",
      "Завершение работы с посетителем 6\n",
      "\n",
      "Обслуживание поселителя 9\n",
      "\n",
      "Завершение работы с посетителем 8\n",
      "\n",
      "Завершение работы с посетителем 7\n",
      "\n",
      "Завершение работы с посетителем 9\n"
     ]
    }
   ],
   "source": [
    "if __name__ == '__main__':\n",
    "    Visits = Pharmacy()\n",
    "    count = 9\n",
    "    Visits.visitors(count)"
   ]
  },
  {
   "cell_type": "code",
   "execution_count": null,
   "id": "cbb15054-d410-472e-9436-bf970180da36",
   "metadata": {},
   "outputs": [],
   "source": []
  }
 ],
 "metadata": {
  "kernelspec": {
   "display_name": "Python 3 (ipykernel)",
   "language": "python",
   "name": "python3"
  },
  "language_info": {
   "codemirror_mode": {
    "name": "ipython",
    "version": 3
   },
   "file_extension": ".py",
   "mimetype": "text/x-python",
   "name": "python",
   "nbconvert_exporter": "python",
   "pygments_lexer": "ipython3",
   "version": "3.12.5"
  }
 },
 "nbformat": 4,
 "nbformat_minor": 5
}
