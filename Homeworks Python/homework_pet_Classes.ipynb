{
 "cells": [
  {
   "cell_type": "code",
   "execution_count": 85,
   "id": "99be0d05-3d8d-4866-b977-208d9dcf2d9e",
   "metadata": {},
   "outputs": [],
   "source": [
    "class Pet:\n",
    "    def __init__(self, name : str, kind : str, age : int, gender : str):\n",
    "        self._name = name\n",
    "        self._kind = kind\n",
    "        self._age = age\n",
    "        self._gender = gender\n",
    "\n",
    "    def get_info(self):\n",
    "        print(f'Name - {self._name}, \\nKind - {self._kind},\\nAge - {self._age} year(s) old,\\nGender - {self._gender}')\n",
    "\n",
    "    def voice(self):\n",
    "        pass\n",
    "        \n",
    "class Dog(Pet):\n",
    "    \n",
    "    def __init__(self, name : str, age : int, gender : str, breed : str):\n",
    "        super().__init__(name, 'dog', age, gender)\n",
    "        self._breed = breed\n",
    "\n",
    "    def voice(self):\n",
    "        print('Гав-гав!')\n",
    "\n",
    "    def barking(self):\n",
    "        print('Гав!')\n",
    "    \n",
    "class Cat(Pet):\n",
    "    \n",
    "    def __init__(self, name : str, age : int, gender : str, color : str):\n",
    "        super().__init__(name, 'cat', age, gender)\n",
    "        self._color = color      \n",
    "\n",
    "    def voice(self):\n",
    "        print('Мяу-мяу!')\n",
    "\n",
    "    def meow(self):\n",
    "        print('Мяу!')"
   ]
  },
  {
   "cell_type": "code",
   "execution_count": 86,
   "id": "70e3f3e5-3ee1-448c-b897-5425e5c4e565",
   "metadata": {},
   "outputs": [],
   "source": [
    "pet = Pet('bobik', 'pes', '2', 'kabel')"
   ]
  },
  {
   "cell_type": "code",
   "execution_count": 87,
   "id": "78cd5f2f-3d2c-4559-bbb3-fc85592f7f22",
   "metadata": {},
   "outputs": [
    {
     "name": "stdout",
     "output_type": "stream",
     "text": [
      "Name - bobik, \n",
      "Kind - pes,\n",
      "Age - 2 year(s) old,\n",
      "Gender - kabel\n"
     ]
    }
   ],
   "source": [
    "pet.get_info()"
   ]
  },
  {
   "cell_type": "code",
   "execution_count": 88,
   "id": "afe3c90d-e889-41fa-96a9-2b7897df0e3f",
   "metadata": {},
   "outputs": [],
   "source": [
    "cat = Cat('Barsik', 2, 'men', 'black')"
   ]
  },
  {
   "cell_type": "code",
   "execution_count": 89,
   "id": "dda81dd9-0e58-4238-8cd1-36399a049f39",
   "metadata": {},
   "outputs": [
    {
     "name": "stdout",
     "output_type": "stream",
     "text": [
      "Name - Barsik, \n",
      "Kind - cat,\n",
      "Age - 2 year(s) old,\n",
      "Gender - men\n"
     ]
    }
   ],
   "source": [
    "cat.get_info()"
   ]
  },
  {
   "cell_type": "code",
   "execution_count": 90,
   "id": "2dfb3900-084a-42c3-8a51-a7bc0b5cec6a",
   "metadata": {},
   "outputs": [
    {
     "name": "stdout",
     "output_type": "stream",
     "text": [
      "Мяу!\n"
     ]
    }
   ],
   "source": [
    "cat.meow()"
   ]
  },
  {
   "cell_type": "code",
   "execution_count": 91,
   "id": "7d43a4d4-20ce-4dd6-8fdd-44686035ce6a",
   "metadata": {},
   "outputs": [
    {
     "name": "stdout",
     "output_type": "stream",
     "text": [
      "Мяу-мяу!\n"
     ]
    }
   ],
   "source": [
    "cat.voice()"
   ]
  },
  {
   "cell_type": "code",
   "execution_count": 92,
   "id": "eb8e8b9b-3e2d-400a-855d-2c952f40700d",
   "metadata": {},
   "outputs": [],
   "source": [
    "dog = Dog('Rex', 3, 'kabel', 'mops')"
   ]
  },
  {
   "cell_type": "code",
   "execution_count": 93,
   "id": "0f6454ce-1bc4-4ddc-94c6-d5e4b8de8659",
   "metadata": {},
   "outputs": [
    {
     "name": "stdout",
     "output_type": "stream",
     "text": [
      "Name - Rex, \n",
      "Kind - dog,\n",
      "Age - 3 year(s) old,\n",
      "Gender - kabel\n"
     ]
    }
   ],
   "source": [
    "dog.get_info()"
   ]
  },
  {
   "cell_type": "code",
   "execution_count": 94,
   "id": "308fcd5c-d96f-467d-8d5b-86af675f0fc4",
   "metadata": {},
   "outputs": [
    {
     "name": "stdout",
     "output_type": "stream",
     "text": [
      "Гав!\n"
     ]
    }
   ],
   "source": [
    "dog.barking()"
   ]
  },
  {
   "cell_type": "code",
   "execution_count": 95,
   "id": "94875bda-0678-4fc4-835f-fe98d2d95e63",
   "metadata": {},
   "outputs": [
    {
     "name": "stdout",
     "output_type": "stream",
     "text": [
      "Гав-гав!\n"
     ]
    }
   ],
   "source": [
    "dog.voice()"
   ]
  },
  {
   "cell_type": "code",
   "execution_count": null,
   "id": "88d7a7b6-5a90-453b-a1ab-d3be196231fd",
   "metadata": {},
   "outputs": [],
   "source": []
  },
  {
   "cell_type": "code",
   "execution_count": null,
   "id": "49533cf2-c97b-403b-ba7f-abfacf720ac3",
   "metadata": {},
   "outputs": [],
   "source": []
  }
 ],
 "metadata": {
  "kernelspec": {
   "display_name": "Python 3 (ipykernel)",
   "language": "python",
   "name": "python3"
  },
  "language_info": {
   "codemirror_mode": {
    "name": "ipython",
    "version": 3
   },
   "file_extension": ".py",
   "mimetype": "text/x-python",
   "name": "python",
   "nbconvert_exporter": "python",
   "pygments_lexer": "ipython3",
   "version": "3.12.4"
  }
 },
 "nbformat": 4,
 "nbformat_minor": 5
}
