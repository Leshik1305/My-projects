{
 "cells": [
  {
   "cell_type": "code",
   "execution_count": 13,
   "id": "a064583f-4601-40e9-ba4f-ce91b6a7b7d7",
   "metadata": {},
   "outputs": [
    {
     "name": "stdin",
     "output_type": "stream",
     "text": [
      " 1.1\n",
      " 2.5\n",
      " 1\n"
     ]
    },
    {
     "name": "stdout",
     "output_type": "stream",
     "text": [
      "x1 = -1.7546122958516108\n",
      "x2 = -0.5181149768756617\n"
     ]
    }
   ],
   "source": [
    "a=float(input())\n",
    "b=float(input())\n",
    "c=float(input())\n",
    "import math\n",
    "D = b**2 - 4*a*c\n",
    "if D>0:\n",
    "    x1 = (-b - math.sqrt(D)) / (2*a)\n",
    "    x2 = (-b + math.sqrt(D)) / (2*a)\n",
    "    print(f'x1 =', x1)\n",
    "    print(f'x2 =', x2)\n",
    "elif D == 0:\n",
    "    x = -b/(2*a)\n",
    "    print(f'x =', x)\n",
    "else:\n",
    "    print('Решений нет')    "
   ]
  },
  {
   "cell_type": "code",
   "execution_count": 15,
   "id": "635f52f0-d525-484e-8f69-f3841381614f",
   "metadata": {},
   "outputs": [
    {
     "name": "stdout",
     "output_type": "stream",
     "text": [
      "x1 = 2.0\n",
      "x2 = 3.0\n"
     ]
    }
   ],
   "source": [
    "a=1\n",
    "b=-5\n",
    "c=6\n",
    "import math\n",
    "D = b**2 - 4*a*c\n",
    "if D>0:\n",
    "    x1 = (-b - math.sqrt(D)) / (2*a)\n",
    "    x2 = (-b + math.sqrt(D)) / (2*a)\n",
    "    print(f'x1 =', x1)\n",
    "    print(f'x2 =', x2)\n",
    "elif D == 0:\n",
    "    x = -b/(2*a)\n",
    "    print(f'x =', x)\n",
    "else:\n",
    "    print('Решений нет')    "
   ]
  },
  {
   "cell_type": "code",
   "execution_count": null,
   "id": "5ef75147-cb08-4926-ae0f-96b9a2ce44a8",
   "metadata": {},
   "outputs": [],
   "source": []
  }
 ],
 "metadata": {
  "kernelspec": {
   "display_name": "Python 3 (ipykernel)",
   "language": "python",
   "name": "python3"
  },
  "language_info": {
   "codemirror_mode": {
    "name": "ipython",
    "version": 3
   },
   "file_extension": ".py",
   "mimetype": "text/x-python",
   "name": "python",
   "nbconvert_exporter": "python",
   "pygments_lexer": "ipython3",
   "version": "3.12.4"
  }
 },
 "nbformat": 4,
 "nbformat_minor": 5
}
