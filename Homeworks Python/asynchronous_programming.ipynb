{
 "cells": [
  {
   "cell_type": "code",
   "execution_count": 6,
   "id": "89ab87b7-062f-4a74-bb6f-36e556df6c25",
   "metadata": {},
   "outputs": [
    {
     "name": "stdout",
     "output_type": "stream",
     "text": [
      "Requirement already satisfied: asyncio in c:\\users\\reall\\appdata\\local\\programs\\python\\python312\\lib\\site-packages (3.4.3)\n",
      "Note: you may need to restart the kernel to use updated packages.\n"
     ]
    },
    {
     "name": "stderr",
     "output_type": "stream",
     "text": [
      "\n",
      "[notice] A new release of pip is available: 24.2 -> 24.3\n",
      "[notice] To update, run: python.exe -m pip install --upgrade pip\n"
     ]
    }
   ],
   "source": [
    "pip install asyncio\n"
   ]
  },
  {
   "cell_type": "code",
   "execution_count": 15,
   "id": "26f0b27b-84bb-4ace-86ec-f7185c182cb5",
   "metadata": {},
   "outputs": [],
   "source": [
    "import asyncio\n",
    "import time"
   ]
  },
  {
   "cell_type": "code",
   "execution_count": 16,
   "id": "e6db121f-d330-44b4-8539-1f21139f3235",
   "metadata": {},
   "outputs": [],
   "source": [
    "def func():\n",
    "    for n in range(2):\n",
    "        print(1)\n",
    "        time.sleep(1)\n",
    "        print(2)\n",
    "\n",
    "def main():\n",
    "    func()"
   ]
  },
  {
   "cell_type": "code",
   "execution_count": 17,
   "id": "a1d5cf7c-47c6-4fdb-aaec-86395c016c64",
   "metadata": {},
   "outputs": [
    {
     "name": "stdout",
     "output_type": "stream",
     "text": [
      "1\n",
      "2\n",
      "1\n",
      "2\n"
     ]
    }
   ],
   "source": [
    "if __name__ == '__main__':\n",
    "    main()"
   ]
  },
  {
   "cell_type": "code",
   "execution_count": 18,
   "id": "1210e269-5b56-483a-aefe-1002a56c8b92",
   "metadata": {},
   "outputs": [],
   "source": [
    "async def async_func():\n",
    "    print(1)\n",
    "    await asyncio.sleep(1)\n",
    "    print(2)\n",
    "\n",
    "\n",
    "async def main():\n",
    "    await asyncio.gather(async_func(), async_func())"
   ]
  },
  {
   "cell_type": "code",
   "execution_count": 19,
   "id": "1c13efcc-2716-46c4-ac05-c1d04921aab8",
   "metadata": {},
   "outputs": [
    {
     "name": "stdout",
     "output_type": "stream",
     "text": [
      "1\n",
      "1\n",
      "2\n",
      "2\n"
     ]
    }
   ],
   "source": [
    "if __name__ == '__main__':\n",
    "    await main()"
   ]
  },
  {
   "cell_type": "code",
   "execution_count": 21,
   "id": "58b912cf-98fc-428e-a1e1-37ecf7ea5d06",
   "metadata": {},
   "outputs": [],
   "source": [
    "\n",
    "\n",
    "def func():\n",
    "    for n in range(2):\n",
    "        print(1)\n",
    "        time.sleep(1)\n",
    "        print(2)\n",
    "\n",
    "\n",
    "def main():\n",
    "    star_time = time.time()\n",
    "    func()\n",
    "    finish_time = time.time()\n",
    "    release_time = finish_time - star_time\n",
    "    print(release_time)"
   ]
  },
  {
   "cell_type": "code",
   "execution_count": 22,
   "id": "eb82eea0-601f-41da-8632-03f9d0b22c02",
   "metadata": {},
   "outputs": [
    {
     "name": "stdout",
     "output_type": "stream",
     "text": [
      "1\n",
      "2\n",
      "1\n",
      "2\n",
      "2.001544713973999\n"
     ]
    }
   ],
   "source": [
    "if __name__ == '__main__':\n",
    "    main()"
   ]
  },
  {
   "cell_type": "code",
   "execution_count": 23,
   "id": "85a7fd9f-87de-473b-89b6-99f7fada2c84",
   "metadata": {},
   "outputs": [],
   "source": [
    "async def async_func():\n",
    "    print(1)\n",
    "    await asyncio.sleep(1)\n",
    "    print(2)\n",
    "\n",
    "\n",
    "async def main():\n",
    "    star_time = time.time()\n",
    "    await asyncio.gather(async_func(), async_func())\n",
    "    finish_time = time.time()\n",
    "    release_time = finish_time - star_time\n",
    "    print(release_time)"
   ]
  },
  {
   "cell_type": "code",
   "execution_count": 24,
   "id": "c4771d90-fc28-42b4-b65a-dd5a4548e3fb",
   "metadata": {},
   "outputs": [
    {
     "name": "stdout",
     "output_type": "stream",
     "text": [
      "1\n",
      "1\n",
      "2\n",
      "2\n",
      "1.0015299320220947\n"
     ]
    }
   ],
   "source": [
    "if __name__ == '__main__':\n",
    "    await main()"
   ]
  },
  {
   "cell_type": "code",
   "execution_count": 25,
   "id": "6f67dcc0-c1e4-4c8a-ab49-0a7bce5c0900",
   "metadata": {},
   "outputs": [
    {
     "name": "stdout",
     "output_type": "stream",
     "text": [
      "1 2\n",
      "1 2\n",
      "1 2\n",
      "1 2\n",
      "1 2\n",
      "1 2\n",
      "1 2\n",
      "1 2\n",
      "1 2\n",
      "1 2\n",
      "10.00700330734253\n"
     ]
    }
   ],
   "source": [
    "def func():\n",
    "    for n in range(10):\n",
    "        print(1, end = ' ')\n",
    "        time.sleep(1)\n",
    "        print(2)\n",
    "\n",
    "\n",
    "def main():\n",
    "    star_time = time.time()\n",
    "    func()\n",
    "    finish_time = time.time()\n",
    "    release_time = finish_time - star_time\n",
    "    print(release_time)\n",
    "    \n",
    "if __name__ == '__main__':\n",
    "    main()"
   ]
  },
  {
   "cell_type": "code",
   "execution_count": 26,
   "id": "21e8a364-690e-4ebc-b151-0ad1c58cb54f",
   "metadata": {},
   "outputs": [
    {
     "name": "stdout",
     "output_type": "stream",
     "text": [
      "1\n",
      "1\n",
      "1\n",
      "1\n",
      "1\n",
      "1\n",
      "1\n",
      "1\n",
      "1\n",
      "1\n",
      "2\n",
      "2\n",
      "2\n",
      "2\n",
      "2\n",
      "2\n",
      "2\n",
      "2\n",
      "2\n",
      "2\n",
      "1.0010316371917725\n"
     ]
    }
   ],
   "source": [
    "async def async_func():\n",
    "    print(1)\n",
    "    await asyncio.sleep(1)\n",
    "    print(2)\n",
    "\n",
    "\n",
    "async def main():\n",
    "    star_time = time.time()\n",
    "    # в asynciо.gather передаем исполняемую функцию 10 раз\n",
    "    await asyncio.gather(async_func(), async_func(), async_func(), async_func(), async_func(),\n",
    "                        async_func(), async_func(), async_func(), async_func(), async_func())\n",
    "    finish_time = time.time()\n",
    "    release_time = finish_time - star_time\n",
    "    print(release_time)\n",
    "    \n",
    "if __name__ == '__main__':\n",
    "    await main()"
   ]
  },
  {
   "cell_type": "code",
   "execution_count": 27,
   "id": "601656c4-c298-4a77-a626-cf2bdf62fec0",
   "metadata": {},
   "outputs": [],
   "source": [
    "def func(arg_1_1):\n",
    "    for i in range(arg_1_1):\n",
    "        yield i\n",
    "        time.sleep(1)\n",
    "\n",
    "\n",
    "def run(arg_1_2):\n",
    "    for i in func(arg_1_2 + 1):\n",
    "        print(i)\n",
    "        print('sleep(1)')\n",
    "\n",
    "\n",
    "def main():\n",
    "    run(1)\n",
    "    run(2)"
   ]
  },
  {
   "cell_type": "code",
   "execution_count": 28,
   "id": "0c068299-9fce-4442-87b4-1c0514ec26e4",
   "metadata": {},
   "outputs": [
    {
     "name": "stdout",
     "output_type": "stream",
     "text": [
      "0\n",
      "sleep(1)\n",
      "1\n",
      "sleep(1)\n",
      "0\n",
      "sleep(1)\n",
      "1\n",
      "sleep(1)\n",
      "2\n",
      "sleep(1)\n"
     ]
    }
   ],
   "source": [
    "if __name__ == '__main__':\n",
    "    main()"
   ]
  },
  {
   "cell_type": "code",
   "execution_count": 29,
   "id": "8f7be8bd-fe21-460d-a0c3-a715539ad49a",
   "metadata": {},
   "outputs": [
    {
     "name": "stdout",
     "output_type": "stream",
     "text": [
      "0\n",
      "asyncio.sleep(1)\n",
      "0\n",
      "asyncio.sleep(1)\n",
      "1\n",
      "asyncio.sleep(1)\n",
      "1\n",
      "asyncio.sleep(1)\n",
      "2\n",
      "asyncio.sleep(1)\n"
     ]
    }
   ],
   "source": [
    "async def func(arg_1_1):\n",
    "    for i in range(arg_1_1):\n",
    "        yield i\n",
    "        await asyncio.sleep(1)\n",
    "\n",
    "\n",
    "async def run(arg_1_2):\n",
    "    async for i in func(arg_1_2 + 1):\n",
    "        print(i)\n",
    "        print('asyncio.sleep(1)')\n",
    "\n",
    "\n",
    "async def main():\n",
    "    await asyncio.gather(run(2), run(1))\n",
    "\n",
    "\n",
    "if __name__ == '__main__':\n",
    "    await main()"
   ]
  },
  {
   "cell_type": "code",
   "execution_count": 30,
   "id": "e9abf4c5-6496-4f33-ab95-437ee1a21f1b",
   "metadata": {},
   "outputs": [],
   "source": [
    "def func(arg_1_1):\n",
    "    for i in range(arg_1_1):\n",
    "        yield i\n",
    "        time.sleep(1)\n",
    "\n",
    "\n",
    "def run(arg_1_2):\n",
    "    for i in func(arg_1_2 + 1):\n",
    "        print(i)\n",
    "        print('sleep(1)')\n",
    "\n",
    "\n",
    "def main():\n",
    "    star_time = time.time()\n",
    "    run(1)\n",
    "    run(2)\n",
    "    finish_time = time.time()\n",
    "    release_time = finish_time - star_time\n",
    "    print(release_time)"
   ]
  },
  {
   "cell_type": "code",
   "execution_count": 31,
   "id": "81ab8f44-88fa-4d7b-a37f-487bbaebbf89",
   "metadata": {},
   "outputs": [
    {
     "name": "stdout",
     "output_type": "stream",
     "text": [
      "0\n",
      "sleep(1)\n",
      "1\n",
      "sleep(1)\n",
      "0\n",
      "sleep(1)\n",
      "1\n",
      "sleep(1)\n",
      "2\n",
      "sleep(1)\n",
      "5.003255128860474\n"
     ]
    }
   ],
   "source": [
    "if __name__ == '__main__':\n",
    "    main()"
   ]
  },
  {
   "cell_type": "code",
   "execution_count": 32,
   "id": "8eaf563b-0992-462e-8297-e2c671e67e11",
   "metadata": {},
   "outputs": [
    {
     "name": "stdout",
     "output_type": "stream",
     "text": [
      "0\n",
      "asyncio.sleep(1)\n",
      "0\n",
      "asyncio.sleep(1)\n",
      "1\n",
      "asyncio.sleep(1)\n",
      "1\n",
      "asyncio.sleep(1)\n",
      "2\n",
      "asyncio.sleep(1)\n",
      "3.0338127613067627\n"
     ]
    }
   ],
   "source": [
    "async def func(arg_1_1):\n",
    "    for i in range(arg_1_1):\n",
    "        yield i\n",
    "        await asyncio.sleep(1)\n",
    "\n",
    "\n",
    "async def run(arg_1_2):\n",
    "    async for i in func(arg_1_2 + 1):\n",
    "        print(i)\n",
    "        print('asyncio.sleep(1)')\n",
    "\n",
    "\n",
    "async def main():\n",
    "    star_time = time.time()\n",
    "    await asyncio.gather(run(2), run(1))\n",
    "    finish_time = time.time()\n",
    "    release_time = finish_time - star_time\n",
    "    print(release_time)\n",
    "\n",
    "if __name__ == '__main__':\n",
    "    await main()"
   ]
  },
  {
   "cell_type": "code",
   "execution_count": 35,
   "id": "4eee6e86-ff1c-4901-964e-fb1f7441ab4a",
   "metadata": {},
   "outputs": [],
   "source": [
    "import asyncio\n",
    "\n",
    "async def simple_msg(text):\n",
    "    # Простая корутина, которая возвращает текст\n",
    "    print(text)\n",
    "\n",
    "\n",
    "async def square(x):\n",
    "    # Простая корутина, которая возвращает число в квадрате\n",
    "    print(x**2)\n",
    "\n",
    "\n",
    "async def long_operation(msg):\n",
    "    # Корутина с задержкой 3 секунды\n",
    "    print(f'Старт задачи {msg}') # точка старта\n",
    "    await asyncio.sleep(3) # тело функции\n",
    "    print(f'Конец задачи {msg}') # точка завершения"
   ]
  },
  {
   "cell_type": "code",
   "execution_count": 36,
   "id": "c36987a8-125c-4c9d-a2f2-019cd4e44be1",
   "metadata": {},
   "outputs": [],
   "source": [
    "async def main():\n",
    "\n",
    "    # Работа двух коротких корутин\n",
    "    await simple_msg('Сообщение 1')\n",
    "    await square(10)\n",
    "\n",
    "    # Работа долгой корутины, обернутой в task\n",
    "    task = asyncio.create_task(long_operation('Задача 1'))\n",
    "\n",
    "    # Работа двух коротких корутин\n",
    "    await simple_msg('Сообщение 2')\n",
    "    await square(5)\n",
    "\n",
    "    await task"
   ]
  },
  {
   "cell_type": "code",
   "execution_count": 37,
   "id": "257d5b73-05de-497b-95f4-8cccc3cdce69",
   "metadata": {},
   "outputs": [
    {
     "name": "stdout",
     "output_type": "stream",
     "text": [
      "Сообщение 1\n",
      "100\n",
      "Сообщение 2\n",
      "25\n",
      "Старт задачи Задача 1\n",
      "Конец задачи Задача 1\n"
     ]
    }
   ],
   "source": [
    "if __name__ == \"__main__\":\n",
    "    # event_loop\n",
    "    await main()"
   ]
  },
  {
   "cell_type": "code",
   "execution_count": 38,
   "id": "aa08134f-c00c-44ca-b8e5-0f56d4015126",
   "metadata": {},
   "outputs": [],
   "source": [
    "async def main():\n",
    "    # Короткие корутины, обернутые в Task\n",
    "    short_task_msg_1 = asyncio.create_task(simple_msg('Сообщение 1'))\n",
    "    short_task_square_1 = asyncio.create_task(square(10))\n",
    "\n",
    "    # Долгие корутины, обернутые в Task\n",
    "    long_task_1 = asyncio.create_task(long_operation('Задача 1'))\n",
    "    long_task_2 = asyncio.create_task(long_operation('Задача 2'))\n",
    "\n",
    "    # Короткие корутины, обернутые в Task\n",
    "    short_task_msg_2 = asyncio.create_task(simple_msg('Сообщение 2'))\n",
    "    short_task_square_2 = asyncio.create_task(square(5))\n",
    "\n",
    "    # Метод .as_completed() для нескольких задач\n",
    "    for task in asyncio.as_completed((\n",
    "        short_task_msg_1, short_task_square_1,\n",
    "        short_task_msg_2, short_task_square_2,\n",
    "        long_task_1, long_task_2)\n",
    "    ):\n",
    "        await task"
   ]
  },
  {
   "cell_type": "code",
   "execution_count": 39,
   "id": "90101877-3050-4128-b026-0e7d17feea34",
   "metadata": {},
   "outputs": [
    {
     "name": "stdout",
     "output_type": "stream",
     "text": [
      "Сообщение 1\n",
      "100\n",
      "Старт задачи Задача 1\n",
      "Старт задачи Задача 2\n",
      "Сообщение 2\n",
      "25\n",
      "Конец задачи Задача 1\n",
      "Конец задачи Задача 2\n"
     ]
    }
   ],
   "source": [
    "if __name__ == \"__main__\":\n",
    "    await main()"
   ]
  },
  {
   "cell_type": "code",
   "execution_count": 40,
   "id": "88e998e9-fd0f-4617-83e6-3328eb4bcd3a",
   "metadata": {},
   "outputs": [],
   "source": [
    "async def main():\n",
    "    # Короткие корутины, обернутые в Task\n",
    "    short_task_msg_1 = asyncio.create_task(simple_msg('Сообщение 1'))\n",
    "    short_task_square_1 = asyncio.create_task(square(10))\n",
    "\n",
    "    # Долгие корутины, обернутые в Task\n",
    "    long_task_1 = asyncio.create_task(long_operation('Задача 1'))\n",
    "    long_task_2 = asyncio.create_task(long_operation('Задача 2'))\n",
    "\n",
    "    # Короткие корутины, обернутые в Task\n",
    "    short_task_msg_2 = asyncio.create_task(simple_msg('Сообщение 2'))\n",
    "    short_task_square_2 = asyncio.create_task(square(5))\n",
    "\n",
    "    # Метод .wait() для нескольких задач\n",
    "    done, pending = await asyncio.wait((\n",
    "        short_task_msg_1, short_task_square_1,\n",
    "        short_task_msg_2, short_task_square_2,\n",
    "        long_task_1, long_task_2)\n",
    "    )\n",
    "    print('Done:\\n',done)\n",
    "    \n",
    "    print('Pending:\\n', pending)"
   ]
  },
  {
   "cell_type": "code",
   "execution_count": 41,
   "id": "9dbf775c-d93b-4cd1-9b9e-98cbc65cb01d",
   "metadata": {},
   "outputs": [
    {
     "name": "stdout",
     "output_type": "stream",
     "text": [
      "Сообщение 1\n",
      "100\n",
      "Старт задачи Задача 1\n",
      "Старт задачи Задача 2\n",
      "Сообщение 2\n",
      "25\n",
      "Конец задачи Задача 1\n",
      "Конец задачи Задача 2\n",
      "Done:\n",
      " {<Task finished name='Task-46' coro=<long_operation() done, defined at C:\\Users\\reall\\AppData\\Local\\Temp\\ipykernel_23032\\3644154490.py:13> result=None>, <Task finished name='Task-48' coro=<square() done, defined at C:\\Users\\reall\\AppData\\Local\\Temp\\ipykernel_23032\\3644154490.py:8> result=None>, <Task finished name='Task-43' coro=<simple_msg() done, defined at C:\\Users\\reall\\AppData\\Local\\Temp\\ipykernel_23032\\3644154490.py:3> result=None>, <Task finished name='Task-45' coro=<long_operation() done, defined at C:\\Users\\reall\\AppData\\Local\\Temp\\ipykernel_23032\\3644154490.py:13> result=None>, <Task finished name='Task-47' coro=<simple_msg() done, defined at C:\\Users\\reall\\AppData\\Local\\Temp\\ipykernel_23032\\3644154490.py:3> result=None>, <Task finished name='Task-44' coro=<square() done, defined at C:\\Users\\reall\\AppData\\Local\\Temp\\ipykernel_23032\\3644154490.py:8> result=None>}\n",
      "Pending:\n",
      " set()\n"
     ]
    }
   ],
   "source": [
    "if __name__ == \"__main__\":\n",
    "    await(main())"
   ]
  },
  {
   "cell_type": "code",
   "execution_count": 42,
   "id": "7cb0eb03-907a-4c8e-880f-2f2ddf73588d",
   "metadata": {},
   "outputs": [],
   "source": [
    "async def main():\n",
    "    \n",
    "    short_task_msg_1 = asyncio.create_task(simple_msg('Сообщение 1'))\n",
    "    short_task_square_1 = asyncio.create_task(square(10))\n",
    "\n",
    "    long_task_1 = asyncio.create_task(long_operation('Задача 1'))\n",
    "\n",
    "\n",
    "    print(f'Результат метода done() - {long_task_1.done()}')\n",
    "    print(f'Результат метода cancelled() - {long_task_1.cancelled()}')\n",
    "    print(f'Результат метода cancel() - {long_task_1.cancel(\"Принудительная остановка\")}')\n",
    "    print()\n",
    "    print('---')\n",
    "    \n",
    "    \n",
    "    \n",
    "    \n",
    "    \n",
    "    # Метод .wait() для нескольких задач\n",
    "    done, pending = await asyncio.wait((\n",
    "        short_task_msg_1,\n",
    "        short_task_square_1,\n",
    "        long_task_1)\n",
    "    )\n",
    "    print('---')\n",
    "    print('\\nDone:\\n', done)\n",
    "    print('\\nPending:\\n', pending)\n",
    "    \n",
    "    # Проверка состояний после работы метода .wait()\n",
    "    print(f'Повторный результат метода done() - {long_task_1.done()}')\n",
    "    print(f'Повторный результат метода cancelled() - {long_task_1.cancelled()}')"
   ]
  },
  {
   "cell_type": "code",
   "execution_count": 43,
   "id": "93fb4c0c-1b62-4928-a2da-b2b0f6df7bbe",
   "metadata": {},
   "outputs": [
    {
     "name": "stdout",
     "output_type": "stream",
     "text": [
      "Результат метода done() - False\n",
      "Результат метода cancelled() - False\n",
      "Результат метода cancel() - True\n",
      "\n",
      "---\n",
      "Сообщение 1\n",
      "100\n",
      "---\n",
      "\n",
      "Done:\n",
      " {<Task cancelled name='Task-52' coro=<long_operation() done, defined at C:\\Users\\reall\\AppData\\Local\\Temp\\ipykernel_23032\\3644154490.py:13>>, <Task finished name='Task-51' coro=<square() done, defined at C:\\Users\\reall\\AppData\\Local\\Temp\\ipykernel_23032\\3644154490.py:8> result=None>, <Task finished name='Task-50' coro=<simple_msg() done, defined at C:\\Users\\reall\\AppData\\Local\\Temp\\ipykernel_23032\\3644154490.py:3> result=None>}\n",
      "\n",
      "Pending:\n",
      " set()\n",
      "Повторный результат метода done() - True\n",
      "Повторный результат метода cancelled() - True\n"
     ]
    }
   ],
   "source": [
    "if __name__ == \"__main__\":\n",
    "    await main()"
   ]
  },
  {
   "cell_type": "code",
   "execution_count": 48,
   "id": "584c932c-0118-445f-a8e7-21c8a0d63f8f",
   "metadata": {},
   "outputs": [],
   "source": [
    "# главная корутина\n",
    "async def main():\n",
    "    \n",
    "    star_time = time.time()\n",
    "    \n",
    "    await simple_msg('Сообщение')\n",
    "    \n",
    "    await long_operation(\"Длинная задача 1\")\n",
    "    \n",
    "    await square(10)\n",
    "    \n",
    "    await long_operation(\"Длинная задача 2\")\n",
    "    finish_time = time.time()\n",
    "    release_time = finish_time - star_time\n",
    "    print(release_time)"
   ]
  },
  {
   "cell_type": "code",
   "execution_count": 49,
   "id": "f13aaf0a-74fd-4990-8727-05237835f6e0",
   "metadata": {},
   "outputs": [
    {
     "name": "stdout",
     "output_type": "stream",
     "text": [
      "Сообщение\n",
      "Старт задачи Длинная задача 1\n",
      "Конец задачи Длинная задача 1\n",
      "100\n",
      "Старт задачи Длинная задача 2\n",
      "Конец задачи Длинная задача 2\n",
      "6.024327754974365\n"
     ]
    }
   ],
   "source": [
    "if __name__ == '__main__':\n",
    "    await main()"
   ]
  },
  {
   "cell_type": "code",
   "execution_count": 50,
   "id": "5f81007d-c1c5-4a37-aacd-d376e96628f3",
   "metadata": {},
   "outputs": [],
   "source": [
    "# главная корутина\n",
    "async def main():\n",
    "    star_time = time.time()\n",
    "    # as_completed(), wait()\n",
    "    # короткая корутина, обернутая в объект Task\n",
    "    short_task_msg = asyncio.create_task(simple_msg('Сообщение'))\n",
    "    \n",
    "    # длинная  корутина, обернутая в объект Task\n",
    "    long_task_1 = asyncio.create_task(long_operation(\"Длинная задача 1\"))\n",
    "    \n",
    "    # короткая корутина, обернутая в объект Task\n",
    "    short_task_square = asyncio.create_task(square(10))\n",
    "        \n",
    "    # длинная  корутина, обернутая в объект Task\n",
    "    long_task_2 = asyncio.create_task(long_operation(\"Длинная задача 2\"))\n",
    "    \n",
    "    for task in asyncio.as_completed((short_task_msg, short_task_square,\n",
    "                          long_task_1, long_task_2)):\n",
    "        await task\n",
    "    finish_time = time.time()\n",
    "    release_time = finish_time - star_time\n",
    "    print(release_time)"
   ]
  },
  {
   "cell_type": "code",
   "execution_count": 51,
   "id": "4806b93b-4594-4004-89d7-88c30b91d77a",
   "metadata": {},
   "outputs": [
    {
     "name": "stdout",
     "output_type": "stream",
     "text": [
      "Сообщение\n",
      "Старт задачи Длинная задача 1\n",
      "100\n",
      "Старт задачи Длинная задача 2\n",
      "Конец задачи Длинная задача 1\n",
      "Конец задачи Длинная задача 2\n",
      "3.0070059299468994\n"
     ]
    }
   ],
   "source": [
    "if __name__ == '__main__':\n",
    "    await main()"
   ]
  },
  {
   "cell_type": "code",
   "execution_count": null,
   "id": "54014d7e-1f2c-46fc-ad3f-2e3449ddd6dc",
   "metadata": {},
   "outputs": [],
   "source": []
  }
 ],
 "metadata": {
  "kernelspec": {
   "display_name": "Python 3 (ipykernel)",
   "language": "python",
   "name": "python3"
  },
  "language_info": {
   "codemirror_mode": {
    "name": "ipython",
    "version": 3
   },
   "file_extension": ".py",
   "mimetype": "text/x-python",
   "name": "python",
   "nbconvert_exporter": "python",
   "pygments_lexer": "ipython3",
   "version": "3.12.5"
  }
 },
 "nbformat": 4,
 "nbformat_minor": 5
}
